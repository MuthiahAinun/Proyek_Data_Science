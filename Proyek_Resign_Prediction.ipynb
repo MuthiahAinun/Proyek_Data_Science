{
  "nbformat": 4,
  "nbformat_minor": 0,
  "metadata": {
    "colab": {
      "provenance": [],
      "authorship_tag": "ABX9TyNZcQkkAC2hEd87zfsEf9ZL",
      "include_colab_link": true
    },
    "kernelspec": {
      "name": "python3",
      "display_name": "Python 3"
    },
    "language_info": {
      "name": "python"
    }
  },
  "cells": [
    {
      "cell_type": "markdown",
      "metadata": {
        "id": "view-in-github",
        "colab_type": "text"
      },
      "source": [
        "<a href=\"https://colab.research.google.com/github/MuthiahAinun/Proyek_Data_Science/blob/main/Proyek_Resign_Prediction.ipynb\" target=\"_parent\"><img src=\"https://colab.research.google.com/assets/colab-badge.svg\" alt=\"Open In Colab\"/></a>"
      ]
    },
    {
      "cell_type": "markdown",
      "source": [
        "# 💡Proyek Data Science: [Employee-dataset]\n",
        "- **Nama:** [Tsamarah Muthi'ah Abdullah]\n",
        "- **Email:** [a135xaf486@devacademy.id]\n",
        "- **ID Dicoding:** [a135xaf48]"
      ],
      "metadata": {
        "id": "N-PNGQKDufkK"
      }
    },
    {
      "cell_type": "markdown",
      "source": [
        "# **Import Library**"
      ],
      "metadata": {
        "id": "GhOdy9oIvJ3r"
      }
    },
    {
      "cell_type": "code",
      "source": [
        "import pandas as pd\n",
        "import matplotlib.pyplot as plt\n",
        "import seaborn as sns\n",
        "from sklearn.model_selection import train_test_split, GridSearchCV\n",
        "from sklearn.metrics import classification_report, accuracy_score, confusion_matrix\n",
        "from catboost import CatBoostClassifier\n",
        "from sklearn.model_selection import StratifiedKFold\n",
        "\n",
        "from sklearn.compose import ColumnTransformer\n",
        "from sklearn.impute import SimpleImputer\n",
        "from sklearn.preprocessing import StandardScaler, OneHotEncoder"
      ],
      "metadata": {
        "id": "cfabqAbuv8E-"
      },
      "execution_count": null,
      "outputs": []
    },
    {
      "cell_type": "markdown",
      "source": [
        "# **Data Understanding**"
      ],
      "metadata": {
        "id": "zuyRhEKewNoJ"
      }
    },
    {
      "cell_type": "code",
      "source": [
        "# Load data\n",
        "df = pd.read_csv(\"employee_data.csv\")"
      ],
      "metadata": {
        "id": "-GZBlNGGuegf"
      },
      "execution_count": null,
      "outputs": []
    },
    {
      "cell_type": "code",
      "source": [
        "# Display basic info\n",
        "print(\"Dataset Shape:\", df.shape)\n",
        "df.head()"
      ],
      "metadata": {
        "colab": {
          "base_uri": "https://localhost:8080/",
          "height": 342
        },
        "id": "sfcdXaKGwalV",
        "outputId": "6d9fdeb5-d671-49ec-cb66-200442ae7b97"
      },
      "execution_count": null,
      "outputs": [
        {
          "output_type": "stream",
          "name": "stdout",
          "text": [
            "Dataset Shape: (1470, 35)\n"
          ]
        },
        {
          "output_type": "execute_result",
          "data": {
            "text/plain": [
              "   EmployeeId  Age  Attrition     BusinessTravel  DailyRate  \\\n",
              "0           1   38        NaN  Travel_Frequently       1444   \n",
              "1           2   37        1.0      Travel_Rarely       1141   \n",
              "2           3   51        1.0      Travel_Rarely       1323   \n",
              "3           4   42        0.0  Travel_Frequently        555   \n",
              "4           5   40        NaN      Travel_Rarely       1194   \n",
              "\n",
              "               Department  DistanceFromHome  Education EducationField  \\\n",
              "0         Human Resources                 1          4          Other   \n",
              "1  Research & Development                11          2        Medical   \n",
              "2  Research & Development                 4          4  Life Sciences   \n",
              "3                   Sales                26          3      Marketing   \n",
              "4  Research & Development                 2          4        Medical   \n",
              "\n",
              "   EmployeeCount  ...  RelationshipSatisfaction StandardHours  \\\n",
              "0              1  ...                         2            80   \n",
              "1              1  ...                         1            80   \n",
              "2              1  ...                         3            80   \n",
              "3              1  ...                         4            80   \n",
              "4              1  ...                         2            80   \n",
              "\n",
              "   StockOptionLevel  TotalWorkingYears  TrainingTimesLastYear WorkLifeBalance  \\\n",
              "0                 1                  7                      2               3   \n",
              "1                 0                 15                      2               1   \n",
              "2                 3                 18                      2               4   \n",
              "3                 1                 23                      2               4   \n",
              "4                 3                 20                      2               3   \n",
              "\n",
              "   YearsAtCompany YearsInCurrentRole  YearsSinceLastPromotion  \\\n",
              "0               6                  2                        1   \n",
              "1               1                  0                        0   \n",
              "2              10                  0                        2   \n",
              "3              20                  4                        4   \n",
              "4               5                  3                        0   \n",
              "\n",
              "   YearsWithCurrManager  \n",
              "0                     2  \n",
              "1                     0  \n",
              "2                     7  \n",
              "3                     8  \n",
              "4                     2  \n",
              "\n",
              "[5 rows x 35 columns]"
            ],
            "text/html": [
              "\n",
              "  <div id=\"df-5ce38a6e-e6ee-4994-8610-55a9d56ba70f\" class=\"colab-df-container\">\n",
              "    <div>\n",
              "<style scoped>\n",
              "    .dataframe tbody tr th:only-of-type {\n",
              "        vertical-align: middle;\n",
              "    }\n",
              "\n",
              "    .dataframe tbody tr th {\n",
              "        vertical-align: top;\n",
              "    }\n",
              "\n",
              "    .dataframe thead th {\n",
              "        text-align: right;\n",
              "    }\n",
              "</style>\n",
              "<table border=\"1\" class=\"dataframe\">\n",
              "  <thead>\n",
              "    <tr style=\"text-align: right;\">\n",
              "      <th></th>\n",
              "      <th>EmployeeId</th>\n",
              "      <th>Age</th>\n",
              "      <th>Attrition</th>\n",
              "      <th>BusinessTravel</th>\n",
              "      <th>DailyRate</th>\n",
              "      <th>Department</th>\n",
              "      <th>DistanceFromHome</th>\n",
              "      <th>Education</th>\n",
              "      <th>EducationField</th>\n",
              "      <th>EmployeeCount</th>\n",
              "      <th>...</th>\n",
              "      <th>RelationshipSatisfaction</th>\n",
              "      <th>StandardHours</th>\n",
              "      <th>StockOptionLevel</th>\n",
              "      <th>TotalWorkingYears</th>\n",
              "      <th>TrainingTimesLastYear</th>\n",
              "      <th>WorkLifeBalance</th>\n",
              "      <th>YearsAtCompany</th>\n",
              "      <th>YearsInCurrentRole</th>\n",
              "      <th>YearsSinceLastPromotion</th>\n",
              "      <th>YearsWithCurrManager</th>\n",
              "    </tr>\n",
              "  </thead>\n",
              "  <tbody>\n",
              "    <tr>\n",
              "      <th>0</th>\n",
              "      <td>1</td>\n",
              "      <td>38</td>\n",
              "      <td>NaN</td>\n",
              "      <td>Travel_Frequently</td>\n",
              "      <td>1444</td>\n",
              "      <td>Human Resources</td>\n",
              "      <td>1</td>\n",
              "      <td>4</td>\n",
              "      <td>Other</td>\n",
              "      <td>1</td>\n",
              "      <td>...</td>\n",
              "      <td>2</td>\n",
              "      <td>80</td>\n",
              "      <td>1</td>\n",
              "      <td>7</td>\n",
              "      <td>2</td>\n",
              "      <td>3</td>\n",
              "      <td>6</td>\n",
              "      <td>2</td>\n",
              "      <td>1</td>\n",
              "      <td>2</td>\n",
              "    </tr>\n",
              "    <tr>\n",
              "      <th>1</th>\n",
              "      <td>2</td>\n",
              "      <td>37</td>\n",
              "      <td>1.0</td>\n",
              "      <td>Travel_Rarely</td>\n",
              "      <td>1141</td>\n",
              "      <td>Research &amp; Development</td>\n",
              "      <td>11</td>\n",
              "      <td>2</td>\n",
              "      <td>Medical</td>\n",
              "      <td>1</td>\n",
              "      <td>...</td>\n",
              "      <td>1</td>\n",
              "      <td>80</td>\n",
              "      <td>0</td>\n",
              "      <td>15</td>\n",
              "      <td>2</td>\n",
              "      <td>1</td>\n",
              "      <td>1</td>\n",
              "      <td>0</td>\n",
              "      <td>0</td>\n",
              "      <td>0</td>\n",
              "    </tr>\n",
              "    <tr>\n",
              "      <th>2</th>\n",
              "      <td>3</td>\n",
              "      <td>51</td>\n",
              "      <td>1.0</td>\n",
              "      <td>Travel_Rarely</td>\n",
              "      <td>1323</td>\n",
              "      <td>Research &amp; Development</td>\n",
              "      <td>4</td>\n",
              "      <td>4</td>\n",
              "      <td>Life Sciences</td>\n",
              "      <td>1</td>\n",
              "      <td>...</td>\n",
              "      <td>3</td>\n",
              "      <td>80</td>\n",
              "      <td>3</td>\n",
              "      <td>18</td>\n",
              "      <td>2</td>\n",
              "      <td>4</td>\n",
              "      <td>10</td>\n",
              "      <td>0</td>\n",
              "      <td>2</td>\n",
              "      <td>7</td>\n",
              "    </tr>\n",
              "    <tr>\n",
              "      <th>3</th>\n",
              "      <td>4</td>\n",
              "      <td>42</td>\n",
              "      <td>0.0</td>\n",
              "      <td>Travel_Frequently</td>\n",
              "      <td>555</td>\n",
              "      <td>Sales</td>\n",
              "      <td>26</td>\n",
              "      <td>3</td>\n",
              "      <td>Marketing</td>\n",
              "      <td>1</td>\n",
              "      <td>...</td>\n",
              "      <td>4</td>\n",
              "      <td>80</td>\n",
              "      <td>1</td>\n",
              "      <td>23</td>\n",
              "      <td>2</td>\n",
              "      <td>4</td>\n",
              "      <td>20</td>\n",
              "      <td>4</td>\n",
              "      <td>4</td>\n",
              "      <td>8</td>\n",
              "    </tr>\n",
              "    <tr>\n",
              "      <th>4</th>\n",
              "      <td>5</td>\n",
              "      <td>40</td>\n",
              "      <td>NaN</td>\n",
              "      <td>Travel_Rarely</td>\n",
              "      <td>1194</td>\n",
              "      <td>Research &amp; Development</td>\n",
              "      <td>2</td>\n",
              "      <td>4</td>\n",
              "      <td>Medical</td>\n",
              "      <td>1</td>\n",
              "      <td>...</td>\n",
              "      <td>2</td>\n",
              "      <td>80</td>\n",
              "      <td>3</td>\n",
              "      <td>20</td>\n",
              "      <td>2</td>\n",
              "      <td>3</td>\n",
              "      <td>5</td>\n",
              "      <td>3</td>\n",
              "      <td>0</td>\n",
              "      <td>2</td>\n",
              "    </tr>\n",
              "  </tbody>\n",
              "</table>\n",
              "<p>5 rows × 35 columns</p>\n",
              "</div>\n",
              "    <div class=\"colab-df-buttons\">\n",
              "\n",
              "  <div class=\"colab-df-container\">\n",
              "    <button class=\"colab-df-convert\" onclick=\"convertToInteractive('df-5ce38a6e-e6ee-4994-8610-55a9d56ba70f')\"\n",
              "            title=\"Convert this dataframe to an interactive table.\"\n",
              "            style=\"display:none;\">\n",
              "\n",
              "  <svg xmlns=\"http://www.w3.org/2000/svg\" height=\"24px\" viewBox=\"0 -960 960 960\">\n",
              "    <path d=\"M120-120v-720h720v720H120Zm60-500h600v-160H180v160Zm220 220h160v-160H400v160Zm0 220h160v-160H400v160ZM180-400h160v-160H180v160Zm440 0h160v-160H620v160ZM180-180h160v-160H180v160Zm440 0h160v-160H620v160Z\"/>\n",
              "  </svg>\n",
              "    </button>\n",
              "\n",
              "  <style>\n",
              "    .colab-df-container {\n",
              "      display:flex;\n",
              "      gap: 12px;\n",
              "    }\n",
              "\n",
              "    .colab-df-convert {\n",
              "      background-color: #E8F0FE;\n",
              "      border: none;\n",
              "      border-radius: 50%;\n",
              "      cursor: pointer;\n",
              "      display: none;\n",
              "      fill: #1967D2;\n",
              "      height: 32px;\n",
              "      padding: 0 0 0 0;\n",
              "      width: 32px;\n",
              "    }\n",
              "\n",
              "    .colab-df-convert:hover {\n",
              "      background-color: #E2EBFA;\n",
              "      box-shadow: 0px 1px 2px rgba(60, 64, 67, 0.3), 0px 1px 3px 1px rgba(60, 64, 67, 0.15);\n",
              "      fill: #174EA6;\n",
              "    }\n",
              "\n",
              "    .colab-df-buttons div {\n",
              "      margin-bottom: 4px;\n",
              "    }\n",
              "\n",
              "    [theme=dark] .colab-df-convert {\n",
              "      background-color: #3B4455;\n",
              "      fill: #D2E3FC;\n",
              "    }\n",
              "\n",
              "    [theme=dark] .colab-df-convert:hover {\n",
              "      background-color: #434B5C;\n",
              "      box-shadow: 0px 1px 3px 1px rgba(0, 0, 0, 0.15);\n",
              "      filter: drop-shadow(0px 1px 2px rgba(0, 0, 0, 0.3));\n",
              "      fill: #FFFFFF;\n",
              "    }\n",
              "  </style>\n",
              "\n",
              "    <script>\n",
              "      const buttonEl =\n",
              "        document.querySelector('#df-5ce38a6e-e6ee-4994-8610-55a9d56ba70f button.colab-df-convert');\n",
              "      buttonEl.style.display =\n",
              "        google.colab.kernel.accessAllowed ? 'block' : 'none';\n",
              "\n",
              "      async function convertToInteractive(key) {\n",
              "        const element = document.querySelector('#df-5ce38a6e-e6ee-4994-8610-55a9d56ba70f');\n",
              "        const dataTable =\n",
              "          await google.colab.kernel.invokeFunction('convertToInteractive',\n",
              "                                                    [key], {});\n",
              "        if (!dataTable) return;\n",
              "\n",
              "        const docLinkHtml = 'Like what you see? Visit the ' +\n",
              "          '<a target=\"_blank\" href=https://colab.research.google.com/notebooks/data_table.ipynb>data table notebook</a>'\n",
              "          + ' to learn more about interactive tables.';\n",
              "        element.innerHTML = '';\n",
              "        dataTable['output_type'] = 'display_data';\n",
              "        await google.colab.output.renderOutput(dataTable, element);\n",
              "        const docLink = document.createElement('div');\n",
              "        docLink.innerHTML = docLinkHtml;\n",
              "        element.appendChild(docLink);\n",
              "      }\n",
              "    </script>\n",
              "  </div>\n",
              "\n",
              "\n",
              "<div id=\"df-7178f103-e781-45d7-ab71-002df7bca532\">\n",
              "  <button class=\"colab-df-quickchart\" onclick=\"quickchart('df-7178f103-e781-45d7-ab71-002df7bca532')\"\n",
              "            title=\"Suggest charts\"\n",
              "            style=\"display:none;\">\n",
              "\n",
              "<svg xmlns=\"http://www.w3.org/2000/svg\" height=\"24px\"viewBox=\"0 0 24 24\"\n",
              "     width=\"24px\">\n",
              "    <g>\n",
              "        <path d=\"M19 3H5c-1.1 0-2 .9-2 2v14c0 1.1.9 2 2 2h14c1.1 0 2-.9 2-2V5c0-1.1-.9-2-2-2zM9 17H7v-7h2v7zm4 0h-2V7h2v10zm4 0h-2v-4h2v4z\"/>\n",
              "    </g>\n",
              "</svg>\n",
              "  </button>\n",
              "\n",
              "<style>\n",
              "  .colab-df-quickchart {\n",
              "      --bg-color: #E8F0FE;\n",
              "      --fill-color: #1967D2;\n",
              "      --hover-bg-color: #E2EBFA;\n",
              "      --hover-fill-color: #174EA6;\n",
              "      --disabled-fill-color: #AAA;\n",
              "      --disabled-bg-color: #DDD;\n",
              "  }\n",
              "\n",
              "  [theme=dark] .colab-df-quickchart {\n",
              "      --bg-color: #3B4455;\n",
              "      --fill-color: #D2E3FC;\n",
              "      --hover-bg-color: #434B5C;\n",
              "      --hover-fill-color: #FFFFFF;\n",
              "      --disabled-bg-color: #3B4455;\n",
              "      --disabled-fill-color: #666;\n",
              "  }\n",
              "\n",
              "  .colab-df-quickchart {\n",
              "    background-color: var(--bg-color);\n",
              "    border: none;\n",
              "    border-radius: 50%;\n",
              "    cursor: pointer;\n",
              "    display: none;\n",
              "    fill: var(--fill-color);\n",
              "    height: 32px;\n",
              "    padding: 0;\n",
              "    width: 32px;\n",
              "  }\n",
              "\n",
              "  .colab-df-quickchart:hover {\n",
              "    background-color: var(--hover-bg-color);\n",
              "    box-shadow: 0 1px 2px rgba(60, 64, 67, 0.3), 0 1px 3px 1px rgba(60, 64, 67, 0.15);\n",
              "    fill: var(--button-hover-fill-color);\n",
              "  }\n",
              "\n",
              "  .colab-df-quickchart-complete:disabled,\n",
              "  .colab-df-quickchart-complete:disabled:hover {\n",
              "    background-color: var(--disabled-bg-color);\n",
              "    fill: var(--disabled-fill-color);\n",
              "    box-shadow: none;\n",
              "  }\n",
              "\n",
              "  .colab-df-spinner {\n",
              "    border: 2px solid var(--fill-color);\n",
              "    border-color: transparent;\n",
              "    border-bottom-color: var(--fill-color);\n",
              "    animation:\n",
              "      spin 1s steps(1) infinite;\n",
              "  }\n",
              "\n",
              "  @keyframes spin {\n",
              "    0% {\n",
              "      border-color: transparent;\n",
              "      border-bottom-color: var(--fill-color);\n",
              "      border-left-color: var(--fill-color);\n",
              "    }\n",
              "    20% {\n",
              "      border-color: transparent;\n",
              "      border-left-color: var(--fill-color);\n",
              "      border-top-color: var(--fill-color);\n",
              "    }\n",
              "    30% {\n",
              "      border-color: transparent;\n",
              "      border-left-color: var(--fill-color);\n",
              "      border-top-color: var(--fill-color);\n",
              "      border-right-color: var(--fill-color);\n",
              "    }\n",
              "    40% {\n",
              "      border-color: transparent;\n",
              "      border-right-color: var(--fill-color);\n",
              "      border-top-color: var(--fill-color);\n",
              "    }\n",
              "    60% {\n",
              "      border-color: transparent;\n",
              "      border-right-color: var(--fill-color);\n",
              "    }\n",
              "    80% {\n",
              "      border-color: transparent;\n",
              "      border-right-color: var(--fill-color);\n",
              "      border-bottom-color: var(--fill-color);\n",
              "    }\n",
              "    90% {\n",
              "      border-color: transparent;\n",
              "      border-bottom-color: var(--fill-color);\n",
              "    }\n",
              "  }\n",
              "</style>\n",
              "\n",
              "  <script>\n",
              "    async function quickchart(key) {\n",
              "      const quickchartButtonEl =\n",
              "        document.querySelector('#' + key + ' button');\n",
              "      quickchartButtonEl.disabled = true;  // To prevent multiple clicks.\n",
              "      quickchartButtonEl.classList.add('colab-df-spinner');\n",
              "      try {\n",
              "        const charts = await google.colab.kernel.invokeFunction(\n",
              "            'suggestCharts', [key], {});\n",
              "      } catch (error) {\n",
              "        console.error('Error during call to suggestCharts:', error);\n",
              "      }\n",
              "      quickchartButtonEl.classList.remove('colab-df-spinner');\n",
              "      quickchartButtonEl.classList.add('colab-df-quickchart-complete');\n",
              "    }\n",
              "    (() => {\n",
              "      let quickchartButtonEl =\n",
              "        document.querySelector('#df-7178f103-e781-45d7-ab71-002df7bca532 button');\n",
              "      quickchartButtonEl.style.display =\n",
              "        google.colab.kernel.accessAllowed ? 'block' : 'none';\n",
              "    })();\n",
              "  </script>\n",
              "</div>\n",
              "\n",
              "    </div>\n",
              "  </div>\n"
            ],
            "application/vnd.google.colaboratory.intrinsic+json": {
              "type": "dataframe",
              "variable_name": "df"
            }
          },
          "metadata": {},
          "execution_count": 4
        }
      ]
    },
    {
      "cell_type": "code",
      "source": [
        "print(\"Dataset Info:\", df.info)\n",
        "df.info()"
      ],
      "metadata": {
        "colab": {
          "base_uri": "https://localhost:8080/"
        },
        "id": "TRlDnaDsw5CU",
        "outputId": "53d7cf41-9407-4e3e-a8e6-8b028d1b85b9"
      },
      "execution_count": null,
      "outputs": [
        {
          "output_type": "stream",
          "name": "stdout",
          "text": [
            "Dataset Info: <bound method DataFrame.info of       EmployeeId  Age  Attrition     BusinessTravel  DailyRate  \\\n",
            "0              1   38        NaN  Travel_Frequently       1444   \n",
            "1              2   37        1.0      Travel_Rarely       1141   \n",
            "2              3   51        1.0      Travel_Rarely       1323   \n",
            "3              4   42        0.0  Travel_Frequently        555   \n",
            "4              5   40        NaN      Travel_Rarely       1194   \n",
            "...          ...  ...        ...                ...        ...   \n",
            "1465        1466   38        0.0      Travel_Rarely        168   \n",
            "1466        1467   50        NaN      Travel_Rarely        813   \n",
            "1467        1468   28        1.0      Travel_Rarely       1485   \n",
            "1468        1469   40        0.0         Non-Travel        458   \n",
            "1469        1470   19        1.0  Travel_Frequently        602   \n",
            "\n",
            "                  Department  DistanceFromHome  Education    EducationField  \\\n",
            "0            Human Resources                 1          4             Other   \n",
            "1     Research & Development                11          2           Medical   \n",
            "2     Research & Development                 4          4     Life Sciences   \n",
            "3                      Sales                26          3         Marketing   \n",
            "4     Research & Development                 2          4           Medical   \n",
            "...                      ...               ...        ...               ...   \n",
            "1465  Research & Development                 1          3     Life Sciences   \n",
            "1466  Research & Development                17          5     Life Sciences   \n",
            "1467  Research & Development                12          1     Life Sciences   \n",
            "1468  Research & Development                16          2     Life Sciences   \n",
            "1469                   Sales                 1          1  Technical Degree   \n",
            "\n",
            "      EmployeeCount  ...  RelationshipSatisfaction StandardHours  \\\n",
            "0                 1  ...                         2            80   \n",
            "1                 1  ...                         1            80   \n",
            "2                 1  ...                         3            80   \n",
            "3                 1  ...                         4            80   \n",
            "4                 1  ...                         2            80   \n",
            "...             ...  ...                       ...           ...   \n",
            "1465              1  ...                         4            80   \n",
            "1466              1  ...                         3            80   \n",
            "1467              1  ...                         4            80   \n",
            "1468              1  ...                         2            80   \n",
            "1469              1  ...                         1            80   \n",
            "\n",
            "      StockOptionLevel  TotalWorkingYears  TrainingTimesLastYear  \\\n",
            "0                    1                  7                      2   \n",
            "1                    0                 15                      2   \n",
            "2                    3                 18                      2   \n",
            "3                    1                 23                      2   \n",
            "4                    3                 20                      2   \n",
            "...                ...                ...                    ...   \n",
            "1465                 0                 10                      4   \n",
            "1466                 3                 19                      3   \n",
            "1467                 0                  1                      4   \n",
            "1468                 1                  6                      0   \n",
            "1469                 0                  1                      5   \n",
            "\n",
            "     WorkLifeBalance  YearsAtCompany YearsInCurrentRole  \\\n",
            "0                  3               6                  2   \n",
            "1                  1               1                  0   \n",
            "2                  4              10                  0   \n",
            "3                  4              20                  4   \n",
            "4                  3               5                  3   \n",
            "...              ...             ...                ...   \n",
            "1465               4               1                  0   \n",
            "1466               3              14                 11   \n",
            "1467               2               1                  1   \n",
            "1468               3               4                  2   \n",
            "1469               4               0                  0   \n",
            "\n",
            "      YearsSinceLastPromotion  YearsWithCurrManager  \n",
            "0                           1                     2  \n",
            "1                           0                     0  \n",
            "2                           2                     7  \n",
            "3                           4                     8  \n",
            "4                           0                     2  \n",
            "...                       ...                   ...  \n",
            "1465                        0                     0  \n",
            "1466                        1                    11  \n",
            "1467                        0                     0  \n",
            "1468                        0                     0  \n",
            "1469                        0                     0  \n",
            "\n",
            "[1470 rows x 35 columns]>\n",
            "<class 'pandas.core.frame.DataFrame'>\n",
            "RangeIndex: 1470 entries, 0 to 1469\n",
            "Data columns (total 35 columns):\n",
            " #   Column                    Non-Null Count  Dtype  \n",
            "---  ------                    --------------  -----  \n",
            " 0   EmployeeId                1470 non-null   int64  \n",
            " 1   Age                       1470 non-null   int64  \n",
            " 2   Attrition                 1058 non-null   float64\n",
            " 3   BusinessTravel            1470 non-null   object \n",
            " 4   DailyRate                 1470 non-null   int64  \n",
            " 5   Department                1470 non-null   object \n",
            " 6   DistanceFromHome          1470 non-null   int64  \n",
            " 7   Education                 1470 non-null   int64  \n",
            " 8   EducationField            1470 non-null   object \n",
            " 9   EmployeeCount             1470 non-null   int64  \n",
            " 10  EnvironmentSatisfaction   1470 non-null   int64  \n",
            " 11  Gender                    1470 non-null   object \n",
            " 12  HourlyRate                1470 non-null   int64  \n",
            " 13  JobInvolvement            1470 non-null   int64  \n",
            " 14  JobLevel                  1470 non-null   int64  \n",
            " 15  JobRole                   1470 non-null   object \n",
            " 16  JobSatisfaction           1470 non-null   int64  \n",
            " 17  MaritalStatus             1470 non-null   object \n",
            " 18  MonthlyIncome             1470 non-null   int64  \n",
            " 19  MonthlyRate               1470 non-null   int64  \n",
            " 20  NumCompaniesWorked        1470 non-null   int64  \n",
            " 21  Over18                    1470 non-null   object \n",
            " 22  OverTime                  1470 non-null   object \n",
            " 23  PercentSalaryHike         1470 non-null   int64  \n",
            " 24  PerformanceRating         1470 non-null   int64  \n",
            " 25  RelationshipSatisfaction  1470 non-null   int64  \n",
            " 26  StandardHours             1470 non-null   int64  \n",
            " 27  StockOptionLevel          1470 non-null   int64  \n",
            " 28  TotalWorkingYears         1470 non-null   int64  \n",
            " 29  TrainingTimesLastYear     1470 non-null   int64  \n",
            " 30  WorkLifeBalance           1470 non-null   int64  \n",
            " 31  YearsAtCompany            1470 non-null   int64  \n",
            " 32  YearsInCurrentRole        1470 non-null   int64  \n",
            " 33  YearsSinceLastPromotion   1470 non-null   int64  \n",
            " 34  YearsWithCurrManager      1470 non-null   int64  \n",
            "dtypes: float64(1), int64(26), object(8)\n",
            "memory usage: 402.1+ KB\n"
          ]
        }
      ]
    },
    {
      "cell_type": "code",
      "source": [
        "# Check missing values\n",
        "print(\"Missing Values:\\n\", df.isnull().sum())"
      ],
      "metadata": {
        "colab": {
          "base_uri": "https://localhost:8080/"
        },
        "id": "cqB8rDKLyGdy",
        "outputId": "460edea4-cd16-499c-a922-4940964611a9"
      },
      "execution_count": null,
      "outputs": [
        {
          "output_type": "stream",
          "name": "stdout",
          "text": [
            "Missing Values:\n",
            " EmployeeId                    0\n",
            "Age                           0\n",
            "Attrition                   412\n",
            "BusinessTravel                0\n",
            "DailyRate                     0\n",
            "Department                    0\n",
            "DistanceFromHome              0\n",
            "Education                     0\n",
            "EducationField                0\n",
            "EmployeeCount                 0\n",
            "EnvironmentSatisfaction       0\n",
            "Gender                        0\n",
            "HourlyRate                    0\n",
            "JobInvolvement                0\n",
            "JobLevel                      0\n",
            "JobRole                       0\n",
            "JobSatisfaction               0\n",
            "MaritalStatus                 0\n",
            "MonthlyIncome                 0\n",
            "MonthlyRate                   0\n",
            "NumCompaniesWorked            0\n",
            "Over18                        0\n",
            "OverTime                      0\n",
            "PercentSalaryHike             0\n",
            "PerformanceRating             0\n",
            "RelationshipSatisfaction      0\n",
            "StandardHours                 0\n",
            "StockOptionLevel              0\n",
            "TotalWorkingYears             0\n",
            "TrainingTimesLastYear         0\n",
            "WorkLifeBalance               0\n",
            "YearsAtCompany                0\n",
            "YearsInCurrentRole            0\n",
            "YearsSinceLastPromotion       0\n",
            "YearsWithCurrManager          0\n",
            "dtype: int64\n"
          ]
        }
      ]
    },
    {
      "cell_type": "markdown",
      "source": [
        " **Hanya kolom Attrition yang memiliki nilai kosong (missing values), yaitu sebanyak 412 data kosong. Kolom lain tidak memiliki missing values sama sekali.**"
      ],
      "metadata": {
        "id": "q_X80pTV2CqH"
      }
    },
    {
      "cell_type": "code",
      "source": [
        "# Drop kolom yang tidak diperlukan\n",
        "df.drop(['EmployeeId', 'Over18', 'StandardHours'], axis=1, inplace=True)"
      ],
      "metadata": {
        "id": "bRnJ0098xg50"
      },
      "execution_count": null,
      "outputs": []
    },
    {
      "cell_type": "markdown",
      "source": [
        "**ketiga kolom tersebut tidak memberikan kontribusi signifikan terhadap prediksi attrition.**"
      ],
      "metadata": {
        "id": "-c1iFXDNxpIJ"
      }
    },
    {
      "cell_type": "code",
      "source": [
        "# Data Visualization\n",
        "plt.figure(figsize=(6,4))\n",
        "sns.countplot(x=\"Attrition\", data=df)\n",
        "plt.title(\"Attrition Distribution\")\n",
        "plt.show()"
      ],
      "metadata": {
        "colab": {
          "base_uri": "https://localhost:8080/",
          "height": 410
        },
        "id": "asazJrDkyhlH",
        "outputId": "bd222eef-7393-41b4-a348-f4c96df221b3"
      },
      "execution_count": null,
      "outputs": [
        {
          "output_type": "display_data",
          "data": {
            "text/plain": [
              "<Figure size 600x400 with 1 Axes>"
            ],
            "image/png": "[encoded data removed]"
          },
          "metadata": {}
        }
      ]
    },
    {
      "cell_type": "markdown",
      "source": [
        "**📊 Kesimpulan dari Visualisasi:**\n",
        "\n",
        "1. Distribusi Tidak Seimbang (Imbalanced)\n",
        "\n",
        "2. Mayoritas karyawan tidak mengalami attrition (Attrition = 0).\n",
        "\n",
        "3. Hanya sebagian kecil karyawan yang mengalami attrition (Attrition = 1).\n",
        "\n",
        "**Perbandingan Kelas**\n",
        "\n",
        "1. Karyawan yang tetap bekerja (Attrition = 0) jauh lebih banyak (~850+).\n",
        "\n",
        "2. Karyawan yang mengundurkan diri (Attrition = 1) jauh lebih sedikit (~200).\n",
        "\n",
        "> Karena Distribusi tidak seimbang, Model bisa jadi terlalu fokus pada mayoritas kelas (Attrition = 0) dan mengabaikan minoritas (Attrition = 1). Solusi yang akan digunakan : menggunakan algoritma yang robust terhadap imbalance, yaitu XGBoost dan melakukan teknik oversampling menggunakan SMOTE."
      ],
      "metadata": {
        "id": "v8vCmIjOzYQB"
      }
    },
    {
      "cell_type": "code",
      "source": [
        "# Attrition vs Overtime\n",
        "plt.figure(figsize=(6,4))\n",
        "sns.countplot(x=\"OverTime\", hue=\"Attrition\", data=df)\n",
        "plt.title(\"Attrition by Overtime\")\n",
        "plt.show()"
      ],
      "metadata": {
        "colab": {
          "base_uri": "https://localhost:8080/",
          "height": 410
        },
        "id": "WuzYQG1SyoIp",
        "outputId": "158e1da9-79dd-4183-f7a5-4c8d1f738e86"
      },
      "execution_count": null,
      "outputs": [
        {
          "output_type": "display_data",
          "data": {
            "text/plain": [
              "<Figure size 600x400 with 1 Axes>"
            ],
            "image/png": "[encoded data removed]"
          },
          "metadata": {}
        }
      ]
    },
    {
      "cell_type": "markdown",
      "source": [
        "**📊 Kesimpulan dari Visualisasi:**\n",
        "\n",
        "**Karyawan yang Lembur (OverTime = Yes):**\n",
        "\n",
        "1. Memiliki jumlah attrition (resign) yang lebih tinggi dibandingkan karyawan yang tidak lembur.\n",
        "\n",
        "2. Meskipun jumlah total karyawan yang lembur lebih sedikit, proporsi mereka yang keluar lebih besar.\n",
        "\n",
        "**Karyawan yang Tidak Lembur (OverTime = No):**\n",
        "\n",
        "1. Sebagian besar tetap bekerja (attrition = 0).\n",
        "\n",
        "2. Hanya sebagian kecil dari mereka yang tidak lembur mengalami attrition.\n",
        "\n",
        "> **Lembur berlebihan berpotensi menyebabkan attrition. OverTime bisa dianggap sebagai salah satu faktor risiko attrition.**\n"
      ],
      "metadata": {
        "id": "fVEsRyv4z4__"
      }
    },
    {
      "cell_type": "code",
      "source": [
        "# Attrition vs Job Satisfaction\n",
        "plt.figure(figsize=(6,4))\n",
        "sns.boxplot(x=\"Attrition\", y=\"JobSatisfaction\", data=df)\n",
        "plt.title(\"Attrition by Job Satisfaction\")\n",
        "plt.show()"
      ],
      "metadata": {
        "colab": {
          "base_uri": "https://localhost:8080/",
          "height": 410
        },
        "id": "NMdCfb6pysah",
        "outputId": "fa466038-26be-4ad7-ec82-88730664a1ec"
      },
      "execution_count": null,
      "outputs": [
        {
          "output_type": "display_data",
          "data": {
            "text/plain": [
              "<Figure size 600x400 with 1 Axes>"
            ],
            "image/png": "[encoded data removed]"
          },
          "metadata": {}
        }
      ]
    },
    {
      "cell_type": "markdown",
      "source": [
        "**📊 Kesimpulan dari Boxplot:**\n",
        "\n",
        "**❎Karyawan yang Tidak Mengalami Attrition (Attrition = 0):**\n",
        "\n",
        "1. Sebagian besar memiliki tingkat kepuasan kerja (Job Satisfaction) yang lebih tinggi, dengan median di angka 3 (High).\n",
        "\n",
        "2. Rentang nilai kepuasan kerja lebih luas (dari 1 hingga 4), namun dominan pada level 3–4.\n",
        "\n",
        "**✅Karyawan yang Mengalami Attrition (Attrition = 1):**\n",
        "\n",
        "1. Median kepuasan kerja mereka berada di level 1 (Low).\n",
        "\n",
        "2. Mayoritas memiliki kepuasan kerja rendah, dengan sebaran sempit (lebih terkonsentrasi di nilai 1–3).\n",
        "\n",
        "> **Semakin rendah kepuasan kerja, semakin tinggi kemungkinan seseorang akan keluar dari perusahaan.**"
      ],
      "metadata": {
        "id": "ZH7-eP_F0Z6e"
      }
    },
    {
      "cell_type": "markdown",
      "source": [
        "# **Data Preparation**"
      ],
      "metadata": {
        "id": "v51Kvb0zx_Cr"
      }
    },
    {
      "cell_type": "code",
      "source": [
        "# Handle missing values for target\n",
        "# Menghapus baris yang memiliki nilai kosong pada kolom 'attrition'\n",
        "df = df[df['Attrition'].notna()]\n",
        "\n",
        "# Mengubah nilai kolom attrition menjadi tipe integer\n",
        "df['Attrition'] = df['Attrition'].astype(int)"
      ],
      "metadata": {
        "colab": {
          "base_uri": "https://localhost:8080/"
        },
        "id": "YB2pbRIU3CVs",
        "outputId": "b0b35f62-47f5-4dff-8a76-95331f2fa3f7"
      },
      "execution_count": null,
      "outputs": [
        {
          "output_type": "stream",
          "name": "stderr",
          "text": [
            "<ipython-input-6-5e394b8055f6>:6: SettingWithCopyWarning: \n",
            "A value is trying to be set on a copy of a slice from a DataFrame.\n",
            "Try using .loc[row_indexer,col_indexer] = value instead\n",
            "\n",
            "See the caveats in the documentation: https://pandas.pydata.org/pandas-docs/stable/user_guide/indexing.html#returning-a-view-versus-a-copy\n",
            "  df['Attrition'] = df['Attrition'].astype(int)\n"
          ]
        }
      ]
    },
    {
      "cell_type": "code",
      "source": [
        "# Check kembali missing values\n",
        "print(\"Missing Values:\\n\", df.isnull().sum())"
      ],
      "metadata": {
        "colab": {
          "base_uri": "https://localhost:8080/"
        },
        "id": "awIiTGEl3Wdn",
        "outputId": "b70d596a-12a9-46d5-f7f1-057524123672"
      },
      "execution_count": null,
      "outputs": [
        {
          "output_type": "stream",
          "name": "stdout",
          "text": [
            "Missing Values:\n",
            " Age                         0\n",
            "Attrition                   0\n",
            "BusinessTravel              0\n",
            "DailyRate                   0\n",
            "Department                  0\n",
            "DistanceFromHome            0\n",
            "Education                   0\n",
            "EducationField              0\n",
            "EmployeeCount               0\n",
            "EnvironmentSatisfaction     0\n",
            "Gender                      0\n",
            "HourlyRate                  0\n",
            "JobInvolvement              0\n",
            "JobLevel                    0\n",
            "JobRole                     0\n",
            "JobSatisfaction             0\n",
            "MaritalStatus               0\n",
            "MonthlyIncome               0\n",
            "MonthlyRate                 0\n",
            "NumCompaniesWorked          0\n",
            "OverTime                    0\n",
            "PercentSalaryHike           0\n",
            "PerformanceRating           0\n",
            "RelationshipSatisfaction    0\n",
            "StockOptionLevel            0\n",
            "TotalWorkingYears           0\n",
            "TrainingTimesLastYear       0\n",
            "WorkLifeBalance             0\n",
            "YearsAtCompany              0\n",
            "YearsInCurrentRole          0\n",
            "YearsSinceLastPromotion     0\n",
            "YearsWithCurrManager        0\n",
            "dtype: int64\n"
          ]
        }
      ]
    },
    {
      "cell_type": "code",
      "source": [
        "# Split features and target\n",
        "X = df.drop(\"Attrition\", axis=1)\n",
        "y = df[\"Attrition\"]"
      ],
      "metadata": {
        "id": "t_QjJPGq3fcX"
      },
      "execution_count": null,
      "outputs": []
    },
    {
      "cell_type": "code",
      "source": [
        "# Identify categorical & Numerical columns\n",
        "numerical_cols = X.select_dtypes(include=['int64', 'float64']).columns.tolist()\n",
        "categorical_cols = X.select_dtypes(include=['object']).columns.tolist()"
      ],
      "metadata": {
        "id": "c85O-u0I4VH0"
      },
      "execution_count": null,
      "outputs": []
    },
    {
      "cell_type": "code",
      "source": [
        "# Pipeline praproses\n",
        "from sklearn.pipeline import Pipeline\n",
        "numerical_pipeline = Pipeline([\n",
        "    (\"imputer\", SimpleImputer(strategy=\"median\")),\n",
        "    (\"scaler\", StandardScaler())\n",
        "])\n",
        "\n",
        "categorical_pipeline = Pipeline([\n",
        "    (\"imputer\", SimpleImputer(strategy=\"most_frequent\")),\n",
        "    (\"encoder\", OneHotEncoder(handle_unknown='ignore'))\n",
        "])\n",
        "\n",
        "preprocessor = ColumnTransformer([\n",
        "    (\"num\", numerical_pipeline, numerical_cols),\n",
        "    (\"cat\", categorical_pipeline, categorical_cols)\n",
        "])"
      ],
      "metadata": {
        "id": "iUvYUHWQ8izm"
      },
      "execution_count": null,
      "outputs": []
    },
    {
      "cell_type": "code",
      "source": [
        "# Preprocess data\n",
        "X_processed = preprocessor.fit_transform(X)"
      ],
      "metadata": {
        "id": "05w9OAHhLS1T"
      },
      "execution_count": null,
      "outputs": []
    },
    {
      "cell_type": "code",
      "source": [
        "import joblib\n",
        "\n",
        "# Simpan pipeline ke file\n",
        "joblib.dump(preprocessor, \"pipeline.pkl\")"
      ],
      "metadata": {
        "colab": {
          "base_uri": "https://localhost:8080/"
        },
        "id": "KQXzSHHBYsn8",
        "outputId": "6d0f9be8-2e73-411e-c47f-2ed975a9573c"
      },
      "execution_count": null,
      "outputs": [
        {
          "output_type": "execute_result",
          "data": {
            "text/plain": [
              "['pipeline.pkl']"
            ]
          },
          "metadata": {},
          "execution_count": 106
        }
      ]
    },
    {
      "cell_type": "code",
      "source": [
        "print(df['Attrition'].value_counts())"
      ],
      "metadata": {
        "colab": {
          "base_uri": "https://localhost:8080/"
        },
        "id": "OeXJMGW67G-4",
        "outputId": "0ffe227a-5223-44ac-ec3f-6d91c8c538f6"
      },
      "execution_count": null,
      "outputs": [
        {
          "output_type": "stream",
          "name": "stdout",
          "text": [
            "Attrition\n",
            "0    879\n",
            "1    179\n",
            "Name: count, dtype: int64\n"
          ]
        }
      ]
    },
    {
      "cell_type": "code",
      "source": [
        "# Apply SMOTE\n",
        "from imblearn.over_sampling import SMOTE\n",
        "sm = SMOTE(random_state=42)\n",
        "X_resampled, y_resampled = sm.fit_resample(X_processed, y)"
      ],
      "metadata": {
        "id": "gwSrAM5gLU5Y"
      },
      "execution_count": null,
      "outputs": []
    },
    {
      "cell_type": "code",
      "source": [
        "# Sebelum SMOTE\n",
        "print(\"Distribusi sebelum SMOTE:\")\n",
        "print(y.value_counts(normalize=True))\n",
        "\n",
        "# Setelah SMOTE\n",
        "print(\"\\nDistribusi setelah SMOTE:\")\n",
        "print(pd.Series(y_resampled).value_counts(normalize=True))"
      ],
      "metadata": {
        "colab": {
          "base_uri": "https://localhost:8080/"
        },
        "id": "rjw0gljkMPuu",
        "outputId": "5efa570b-c5a6-479e-83b7-c875f0a9c4ee"
      },
      "execution_count": null,
      "outputs": [
        {
          "output_type": "stream",
          "name": "stdout",
          "text": [
            "Distribusi sebelum SMOTE:\n",
            "Attrition\n",
            "0    0.830813\n",
            "1    0.169187\n",
            "Name: proportion, dtype: float64\n",
            "\n",
            "Distribusi setelah SMOTE:\n",
            "Attrition\n",
            "1    0.5\n",
            "0    0.5\n",
            "Name: proportion, dtype: float64\n"
          ]
        }
      ]
    },
    {
      "cell_type": "code",
      "source": [
        "# Split data\n",
        "X_train, X_test, y_train, y_test = train_test_split(\n",
        "    X_resampled, y_resampled, test_size=0.2, random_state=42, stratify=y_resampled\n",
        ")"
      ],
      "metadata": {
        "id": "gKYfnHbI5fEd"
      },
      "execution_count": null,
      "outputs": []
    },
    {
      "cell_type": "markdown",
      "source": [
        "# **Modeling**"
      ],
      "metadata": {
        "id": "7B6ptZSG5imE"
      }
    },
    {
      "cell_type": "code",
      "source": [
        "# Train XGBoost\n",
        "from xgboost import XGBClassifier\n",
        "model = XGBClassifier(n_estimators=300, learning_rate=0.05, max_depth=6, random_state=42)\n",
        "model.fit(X_train, y_train)"
      ],
      "metadata": {
        "colab": {
          "base_uri": "https://localhost:8080/",
          "height": 253
        },
        "id": "VuW1fG1i5pri",
        "outputId": "00c9dc37-e6f7-43b9-908f-cd6427603ce1"
      },
      "execution_count": null,
      "outputs": [
        {
          "output_type": "execute_result",
          "data": {
            "text/plain": [
              "XGBClassifier(base_score=None, booster=None, callbacks=None,\n",
              "              colsample_bylevel=None, colsample_bynode=None,\n",
              "              colsample_bytree=None, device=None, early_stopping_rounds=None,\n",
              "              enable_categorical=False, eval_metric=None, feature_types=None,\n",
              "              gamma=None, grow_policy=None, importance_type=None,\n",
              "              interaction_constraints=None, learning_rate=0.05, max_bin=None,\n",
              "              max_cat_threshold=None, max_cat_to_onehot=None,\n",
              "              max_delta_step=None, max_depth=6, max_leaves=None,\n",
              "              min_child_weight=None, missing=nan, monotone_constraints=None,\n",
              "              multi_strategy=None, n_estimators=300, n_jobs=None,\n",
              "              num_parallel_tree=None, random_state=42, ...)"
            ],
            "text/html": [
              "<style>#sk-container-id-5 {\n",
              "  /* Definition of color scheme common for light and dark mode */\n",
              "  --sklearn-color-text: #000;\n",
              "  --sklearn-color-text-muted: #666;\n",
              "  --sklearn-color-line: gray;\n",
              "  /* Definition of color scheme for unfitted estimators */\n",
              "  --sklearn-color-unfitted-level-0: #fff5e6;\n",
              "  --sklearn-color-unfitted-level-1: #f6e4d2;\n",
              "  --sklearn-color-unfitted-level-2: #ffe0b3;\n",
              "  --sklearn-color-unfitted-level-3: chocolate;\n",
              "  /* Definition of color scheme for fitted estimators */\n",
              "  --sklearn-color-fitted-level-0: #f0f8ff;\n",
              "  --sklearn-color-fitted-level-1: #d4ebff;\n",
              "  --sklearn-color-fitted-level-2: #b3dbfd;\n",
              "  --sklearn-color-fitted-level-3: cornflowerblue;\n",
              "\n",
              "  /* Specific color for light theme */\n",
              "  --sklearn-color-text-on-default-background: var(--sg-text-color, var(--theme-code-foreground, var(--jp-content-font-color1, black)));\n",
              "  --sklearn-color-background: var(--sg-background-color, var(--theme-background, var(--jp-layout-color0, white)));\n",
              "  --sklearn-color-border-box: var(--sg-text-color, var(--theme-code-foreground, var(--jp-content-font-color1, black)));\n",
              "  --sklearn-color-icon: #696969;\n",
              "\n",
              "  @media (prefers-color-scheme: dark) {\n",
              "    /* Redefinition of color scheme for dark theme */\n",
              "    --sklearn-color-text-on-default-background: var(--sg-text-color, var(--theme-code-foreground, var(--jp-content-font-color1, white)));\n",
              "    --sklearn-color-background: var(--sg-background-color, var(--theme-background, var(--jp-layout-color0, #111)));\n",
              "    --sklearn-color-border-box: var(--sg-text-color, var(--theme-code-foreground, var(--jp-content-font-color1, white)));\n",
              "    --sklearn-color-icon: #878787;\n",
              "  }\n",
              "}\n",
              "\n",
              "#sk-container-id-5 {\n",
              "  color: var(--sklearn-color-text);\n",
              "}\n",
              "\n",
              "#sk-container-id-5 pre {\n",
              "  padding: 0;\n",
              "}\n",
              "\n",
              "#sk-container-id-5 input.sk-hidden--visually {\n",
              "  border: 0;\n",
              "  clip: rect(1px 1px 1px 1px);\n",
              "  clip: rect(1px, 1px, 1px, 1px);\n",
              "  height: 1px;\n",
              "  margin: -1px;\n",
              "  overflow: hidden;\n",
              "  padding: 0;\n",
              "  position: absolute;\n",
              "  width: 1px;\n",
              "}\n",
              "\n",
              "#sk-container-id-5 div.sk-dashed-wrapped {\n",
              "  border: 1px dashed var(--sklearn-color-line);\n",
              "  margin: 0 0.4em 0.5em 0.4em;\n",
              "  box-sizing: border-box;\n",
              "  padding-bottom: 0.4em;\n",
              "  background-color: var(--sklearn-color-background);\n",
              "}\n",
              "\n",
              "#sk-container-id-5 div.sk-container {\n",
              "  /* jupyter's `normalize.less` sets `[hidden] { display: none; }`\n",
              "     but bootstrap.min.css set `[hidden] { display: none !important; }`\n",
              "     so we also need the `!important` here to be able to override the\n",
              "     default hidden behavior on the sphinx rendered scikit-learn.org.\n",
              "     See: https://github.com/scikit-learn/scikit-learn/issues/21755 */\n",
              "  display: inline-block !important;\n",
              "  position: relative;\n",
              "}\n",
              "\n",
              "#sk-container-id-5 div.sk-text-repr-fallback {\n",
              "  display: none;\n",
              "}\n",
              "\n",
              "div.sk-parallel-item,\n",
              "div.sk-serial,\n",
              "div.sk-item {\n",
              "  /* draw centered vertical line to link estimators */\n",
              "  background-image: linear-gradient(var(--sklearn-color-text-on-default-background), var(--sklearn-color-text-on-default-background));\n",
              "  background-size: 2px 100%;\n",
              "  background-repeat: no-repeat;\n",
              "  background-position: center center;\n",
              "}\n",
              "\n",
              "/* Parallel-specific style estimator block */\n",
              "\n",
              "#sk-container-id-5 div.sk-parallel-item::after {\n",
              "  content: \"\";\n",
              "  width: 100%;\n",
              "  border-bottom: 2px solid var(--sklearn-color-text-on-default-background);\n",
              "  flex-grow: 1;\n",
              "}\n",
              "\n",
              "#sk-container-id-5 div.sk-parallel {\n",
              "  display: flex;\n",
              "  align-items: stretch;\n",
              "  justify-content: center;\n",
              "  background-color: var(--sklearn-color-background);\n",
              "  position: relative;\n",
              "}\n",
              "\n",
              "#sk-container-id-5 div.sk-parallel-item {\n",
              "  display: flex;\n",
              "  flex-direction: column;\n",
              "}\n",
              "\n",
              "#sk-container-id-5 div.sk-parallel-item:first-child::after {\n",
              "  align-self: flex-end;\n",
              "  width: 50%;\n",
              "}\n",
              "\n",
              "#sk-container-id-5 div.sk-parallel-item:last-child::after {\n",
              "  align-self: flex-start;\n",
              "  width: 50%;\n",
              "}\n",
              "\n",
              "#sk-container-id-5 div.sk-parallel-item:only-child::after {\n",
              "  width: 0;\n",
              "}\n",
              "\n",
              "/* Serial-specific style estimator block */\n",
              "\n",
              "#sk-container-id-5 div.sk-serial {\n",
              "  display: flex;\n",
              "  flex-direction: column;\n",
              "  align-items: center;\n",
              "  background-color: var(--sklearn-color-background);\n",
              "  padding-right: 1em;\n",
              "  padding-left: 1em;\n",
              "}\n",
              "\n",
              "\n",
              "/* Toggleable style: style used for estimator/Pipeline/ColumnTransformer box that is\n",
              "clickable and can be expanded/collapsed.\n",
              "- Pipeline and ColumnTransformer use this feature and define the default style\n",
              "- Estimators will overwrite some part of the style using the `sk-estimator` class\n",
              "*/\n",
              "\n",
              "/* Pipeline and ColumnTransformer style (default) */\n",
              "\n",
              "#sk-container-id-5 div.sk-toggleable {\n",
              "  /* Default theme specific background. It is overwritten whether we have a\n",
              "  specific estimator or a Pipeline/ColumnTransformer */\n",
              "  background-color: var(--sklearn-color-background);\n",
              "}\n",
              "\n",
              "/* Toggleable label */\n",
              "#sk-container-id-5 label.sk-toggleable__label {\n",
              "  cursor: pointer;\n",
              "  display: flex;\n",
              "  width: 100%;\n",
              "  margin-bottom: 0;\n",
              "  padding: 0.5em;\n",
              "  box-sizing: border-box;\n",
              "  text-align: center;\n",
              "  align-items: start;\n",
              "  justify-content: space-between;\n",
              "  gap: 0.5em;\n",
              "}\n",
              "\n",
              "#sk-container-id-5 label.sk-toggleable__label .caption {\n",
              "  font-size: 0.6rem;\n",
              "  font-weight: lighter;\n",
              "  color: var(--sklearn-color-text-muted);\n",
              "}\n",
              "\n",
              "#sk-container-id-5 label.sk-toggleable__label-arrow:before {\n",
              "  /* Arrow on the left of the label */\n",
              "  content: \"▸\";\n",
              "  float: left;\n",
              "  margin-right: 0.25em;\n",
              "  color: var(--sklearn-color-icon);\n",
              "}\n",
              "\n",
              "#sk-container-id-5 label.sk-toggleable__label-arrow:hover:before {\n",
              "  color: var(--sklearn-color-text);\n",
              "}\n",
              "\n",
              "/* Toggleable content - dropdown */\n",
              "\n",
              "#sk-container-id-5 div.sk-toggleable__content {\n",
              "  max-height: 0;\n",
              "  max-width: 0;\n",
              "  overflow: hidden;\n",
              "  text-align: left;\n",
              "  /* unfitted */\n",
              "  background-color: var(--sklearn-color-unfitted-level-0);\n",
              "}\n",
              "\n",
              "#sk-container-id-5 div.sk-toggleable__content.fitted {\n",
              "  /* fitted */\n",
              "  background-color: var(--sklearn-color-fitted-level-0);\n",
              "}\n",
              "\n",
              "#sk-container-id-5 div.sk-toggleable__content pre {\n",
              "  margin: 0.2em;\n",
              "  border-radius: 0.25em;\n",
              "  color: var(--sklearn-color-text);\n",
              "  /* unfitted */\n",
              "  background-color: var(--sklearn-color-unfitted-level-0);\n",
              "}\n",
              "\n",
              "#sk-container-id-5 div.sk-toggleable__content.fitted pre {\n",
              "  /* unfitted */\n",
              "  background-color: var(--sklearn-color-fitted-level-0);\n",
              "}\n",
              "\n",
              "#sk-container-id-5 input.sk-toggleable__control:checked~div.sk-toggleable__content {\n",
              "  /* Expand drop-down */\n",
              "  max-height: 200px;\n",
              "  max-width: 100%;\n",
              "  overflow: auto;\n",
              "}\n",
              "\n",
              "#sk-container-id-5 input.sk-toggleable__control:checked~label.sk-toggleable__label-arrow:before {\n",
              "  content: \"▾\";\n",
              "}\n",
              "\n",
              "/* Pipeline/ColumnTransformer-specific style */\n",
              "\n",
              "#sk-container-id-5 div.sk-label input.sk-toggleable__control:checked~label.sk-toggleable__label {\n",
              "  color: var(--sklearn-color-text);\n",
              "  background-color: var(--sklearn-color-unfitted-level-2);\n",
              "}\n",
              "\n",
              "#sk-container-id-5 div.sk-label.fitted input.sk-toggleable__control:checked~label.sk-toggleable__label {\n",
              "  background-color: var(--sklearn-color-fitted-level-2);\n",
              "}\n",
              "\n",
              "/* Estimator-specific style */\n",
              "\n",
              "/* Colorize estimator box */\n",
              "#sk-container-id-5 div.sk-estimator input.sk-toggleable__control:checked~label.sk-toggleable__label {\n",
              "  /* unfitted */\n",
              "  background-color: var(--sklearn-color-unfitted-level-2);\n",
              "}\n",
              "\n",
              "#sk-container-id-5 div.sk-estimator.fitted input.sk-toggleable__control:checked~label.sk-toggleable__label {\n",
              "  /* fitted */\n",
              "  background-color: var(--sklearn-color-fitted-level-2);\n",
              "}\n",
              "\n",
              "#sk-container-id-5 div.sk-label label.sk-toggleable__label,\n",
              "#sk-container-id-5 div.sk-label label {\n",
              "  /* The background is the default theme color */\n",
              "  color: var(--sklearn-color-text-on-default-background);\n",
              "}\n",
              "\n",
              "/* On hover, darken the color of the background */\n",
              "#sk-container-id-5 div.sk-label:hover label.sk-toggleable__label {\n",
              "  color: var(--sklearn-color-text);\n",
              "  background-color: var(--sklearn-color-unfitted-level-2);\n",
              "}\n",
              "\n",
              "/* Label box, darken color on hover, fitted */\n",
              "#sk-container-id-5 div.sk-label.fitted:hover label.sk-toggleable__label.fitted {\n",
              "  color: var(--sklearn-color-text);\n",
              "  background-color: var(--sklearn-color-fitted-level-2);\n",
              "}\n",
              "\n",
              "/* Estimator label */\n",
              "\n",
              "#sk-container-id-5 div.sk-label label {\n",
              "  font-family: monospace;\n",
              "  font-weight: bold;\n",
              "  display: inline-block;\n",
              "  line-height: 1.2em;\n",
              "}\n",
              "\n",
              "#sk-container-id-5 div.sk-label-container {\n",
              "  text-align: center;\n",
              "}\n",
              "\n",
              "/* Estimator-specific */\n",
              "#sk-container-id-5 div.sk-estimator {\n",
              "  font-family: monospace;\n",
              "  border: 1px dotted var(--sklearn-color-border-box);\n",
              "  border-radius: 0.25em;\n",
              "  box-sizing: border-box;\n",
              "  margin-bottom: 0.5em;\n",
              "  /* unfitted */\n",
              "  background-color: var(--sklearn-color-unfitted-level-0);\n",
              "}\n",
              "\n",
              "#sk-container-id-5 div.sk-estimator.fitted {\n",
              "  /* fitted */\n",
              "  background-color: var(--sklearn-color-fitted-level-0);\n",
              "}\n",
              "\n",
              "/* on hover */\n",
              "#sk-container-id-5 div.sk-estimator:hover {\n",
              "  /* unfitted */\n",
              "  background-color: var(--sklearn-color-unfitted-level-2);\n",
              "}\n",
              "\n",
              "#sk-container-id-5 div.sk-estimator.fitted:hover {\n",
              "  /* fitted */\n",
              "  background-color: var(--sklearn-color-fitted-level-2);\n",
              "}\n",
              "\n",
              "/* Specification for estimator info (e.g. \"i\" and \"?\") */\n",
              "\n",
              "/* Common style for \"i\" and \"?\" */\n",
              "\n",
              ".sk-estimator-doc-link,\n",
              "a:link.sk-estimator-doc-link,\n",
              "a:visited.sk-estimator-doc-link {\n",
              "  float: right;\n",
              "  font-size: smaller;\n",
              "  line-height: 1em;\n",
              "  font-family: monospace;\n",
              "  background-color: var(--sklearn-color-background);\n",
              "  border-radius: 1em;\n",
              "  height: 1em;\n",
              "  width: 1em;\n",
              "  text-decoration: none !important;\n",
              "  margin-left: 0.5em;\n",
              "  text-align: center;\n",
              "  /* unfitted */\n",
              "  border: var(--sklearn-color-unfitted-level-1) 1pt solid;\n",
              "  color: var(--sklearn-color-unfitted-level-1);\n",
              "}\n",
              "\n",
              ".sk-estimator-doc-link.fitted,\n",
              "a:link.sk-estimator-doc-link.fitted,\n",
              "a:visited.sk-estimator-doc-link.fitted {\n",
              "  /* fitted */\n",
              "  border: var(--sklearn-color-fitted-level-1) 1pt solid;\n",
              "  color: var(--sklearn-color-fitted-level-1);\n",
              "}\n",
              "\n",
              "/* On hover */\n",
              "div.sk-estimator:hover .sk-estimator-doc-link:hover,\n",
              ".sk-estimator-doc-link:hover,\n",
              "div.sk-label-container:hover .sk-estimator-doc-link:hover,\n",
              ".sk-estimator-doc-link:hover {\n",
              "  /* unfitted */\n",
              "  background-color: var(--sklearn-color-unfitted-level-3);\n",
              "  color: var(--sklearn-color-background);\n",
              "  text-decoration: none;\n",
              "}\n",
              "\n",
              "div.sk-estimator.fitted:hover .sk-estimator-doc-link.fitted:hover,\n",
              ".sk-estimator-doc-link.fitted:hover,\n",
              "div.sk-label-container:hover .sk-estimator-doc-link.fitted:hover,\n",
              ".sk-estimator-doc-link.fitted:hover {\n",
              "  /* fitted */\n",
              "  background-color: var(--sklearn-color-fitted-level-3);\n",
              "  color: var(--sklearn-color-background);\n",
              "  text-decoration: none;\n",
              "}\n",
              "\n",
              "/* Span, style for the box shown on hovering the info icon */\n",
              ".sk-estimator-doc-link span {\n",
              "  display: none;\n",
              "  z-index: 9999;\n",
              "  position: relative;\n",
              "  font-weight: normal;\n",
              "  right: .2ex;\n",
              "  padding: .5ex;\n",
              "  margin: .5ex;\n",
              "  width: min-content;\n",
              "  min-width: 20ex;\n",
              "  max-width: 50ex;\n",
              "  color: var(--sklearn-color-text);\n",
              "  box-shadow: 2pt 2pt 4pt #999;\n",
              "  /* unfitted */\n",
              "  background: var(--sklearn-color-unfitted-level-0);\n",
              "  border: .5pt solid var(--sklearn-color-unfitted-level-3);\n",
              "}\n",
              "\n",
              ".sk-estimator-doc-link.fitted span {\n",
              "  /* fitted */\n",
              "  background: var(--sklearn-color-fitted-level-0);\n",
              "  border: var(--sklearn-color-fitted-level-3);\n",
              "}\n",
              "\n",
              ".sk-estimator-doc-link:hover span {\n",
              "  display: block;\n",
              "}\n",
              "\n",
              "/* \"?\"-specific style due to the `<a>` HTML tag */\n",
              "\n",
              "#sk-container-id-5 a.estimator_doc_link {\n",
              "  float: right;\n",
              "  font-size: 1rem;\n",
              "  line-height: 1em;\n",
              "  font-family: monospace;\n",
              "  background-color: var(--sklearn-color-background);\n",
              "  border-radius: 1rem;\n",
              "  height: 1rem;\n",
              "  width: 1rem;\n",
              "  text-decoration: none;\n",
              "  /* unfitted */\n",
              "  color: var(--sklearn-color-unfitted-level-1);\n",
              "  border: var(--sklearn-color-unfitted-level-1) 1pt solid;\n",
              "}\n",
              "\n",
              "#sk-container-id-5 a.estimator_doc_link.fitted {\n",
              "  /* fitted */\n",
              "  border: var(--sklearn-color-fitted-level-1) 1pt solid;\n",
              "  color: var(--sklearn-color-fitted-level-1);\n",
              "}\n",
              "\n",
              "/* On hover */\n",
              "#sk-container-id-5 a.estimator_doc_link:hover {\n",
              "  /* unfitted */\n",
              "  background-color: var(--sklearn-color-unfitted-level-3);\n",
              "  color: var(--sklearn-color-background);\n",
              "  text-decoration: none;\n",
              "}\n",
              "\n",
              "#sk-container-id-5 a.estimator_doc_link.fitted:hover {\n",
              "  /* fitted */\n",
              "  background-color: var(--sklearn-color-fitted-level-3);\n",
              "}\n",
              "</style><div id=\"sk-container-id-5\" class=\"sk-top-container\"><div class=\"sk-text-repr-fallback\"><pre>XGBClassifier(base_score=None, booster=None, callbacks=None,\n",
              "              colsample_bylevel=None, colsample_bynode=None,\n",
              "              colsample_bytree=None, device=None, early_stopping_rounds=None,\n",
              "              enable_categorical=False, eval_metric=None, feature_types=None,\n",
              "              gamma=None, grow_policy=None, importance_type=None,\n",
              "              interaction_constraints=None, learning_rate=0.05, max_bin=None,\n",
              "              max_cat_threshold=None, max_cat_to_onehot=None,\n",
              "              max_delta_step=None, max_depth=6, max_leaves=None,\n",
              "              min_child_weight=None, missing=nan, monotone_constraints=None,\n",
              "              multi_strategy=None, n_estimators=300, n_jobs=None,\n",
              "              num_parallel_tree=None, random_state=42, ...)</pre><b>In a Jupyter environment, please rerun this cell to show the HTML representation or trust the notebook. <br />On GitHub, the HTML representation is unable to render, please try loading this page with nbviewer.org.</b></div><div class=\"sk-container\" hidden><div class=\"sk-item\"><div class=\"sk-estimator fitted sk-toggleable\"><input class=\"sk-toggleable__control sk-hidden--visually\" id=\"sk-estimator-id-23\" type=\"checkbox\" checked><label for=\"sk-estimator-id-23\" class=\"sk-toggleable__label fitted sk-toggleable__label-arrow\"><div><div>XGBClassifier</div></div><div><span class=\"sk-estimator-doc-link fitted\">i<span>Fitted</span></span></div></label><div class=\"sk-toggleable__content fitted\"><pre>XGBClassifier(base_score=None, booster=None, callbacks=None,\n",
              "              colsample_bylevel=None, colsample_bynode=None,\n",
              "              colsample_bytree=None, device=None, early_stopping_rounds=None,\n",
              "              enable_categorical=False, eval_metric=None, feature_types=None,\n",
              "              gamma=None, grow_policy=None, importance_type=None,\n",
              "              interaction_constraints=None, learning_rate=0.05, max_bin=None,\n",
              "              max_cat_threshold=None, max_cat_to_onehot=None,\n",
              "              max_delta_step=None, max_depth=6, max_leaves=None,\n",
              "              min_child_weight=None, missing=nan, monotone_constraints=None,\n",
              "              multi_strategy=None, n_estimators=300, n_jobs=None,\n",
              "              num_parallel_tree=None, random_state=42, ...)</pre></div> </div></div></div></div>"
            ]
          },
          "metadata": {},
          "execution_count": 86
        }
      ]
    },
    {
      "cell_type": "markdown",
      "source": [
        "# **Evaluation**"
      ],
      "metadata": {
        "id": "zzupOkuY6s62"
      }
    },
    {
      "cell_type": "code",
      "source": [
        "# Evaluate\n",
        "y_pred = model.predict(X_test)\n",
        "print(\"Classification Report:\\n\", classification_report(y_test, y_pred))\n",
        "print(\"Accuracy:\", accuracy_score(y_test, y_pred))"
      ],
      "metadata": {
        "colab": {
          "base_uri": "https://localhost:8080/"
        },
        "id": "-TOFmlzFLwjP",
        "outputId": "234a37a3-13c5-4de8-bd9a-b0347415966e"
      },
      "execution_count": null,
      "outputs": [
        {
          "output_type": "stream",
          "name": "stdout",
          "text": [
            "Classification Report:\n",
            "               precision    recall  f1-score   support\n",
            "\n",
            "           0       0.89      0.95      0.92       176\n",
            "           1       0.95      0.88      0.91       176\n",
            "\n",
            "    accuracy                           0.92       352\n",
            "   macro avg       0.92      0.92      0.92       352\n",
            "weighted avg       0.92      0.92      0.92       352\n",
            "\n",
            "Accuracy: 0.9176136363636364\n"
          ]
        }
      ]
    },
    {
      "cell_type": "markdown",
      "source": [
        "### **Save Model**"
      ],
      "metadata": {
        "id": "ne4W3PqzWDGn"
      }
    },
    {
      "cell_type": "code",
      "source": [
        "import joblib\n",
        "# Simpan model\n",
        "joblib.dump(model, 'xgboost_model.pkl')"
      ],
      "metadata": {
        "colab": {
          "base_uri": "https://localhost:8080/"
        },
        "id": "j0bRiiOKV8Hr",
        "outputId": "b76d54c5-778a-4d3d-8d7a-648c1a0918e0"
      },
      "execution_count": null,
      "outputs": [
        {
          "output_type": "execute_result",
          "data": {
            "text/plain": [
              "['xgboost_model.pkl']"
            ]
          },
          "metadata": {},
          "execution_count": 103
        }
      ]
    },
    {
      "cell_type": "markdown",
      "source": [
        "### **Menentukan Nilai Threshold**"
      ],
      "metadata": {
        "id": "4gN3GYe7SF4T"
      }
    },
    {
      "cell_type": "markdown",
      "source": [
        "Melakukan optimasi threshold untuk:\n",
        "\n",
        "- Menyesuaikan performa model dengan tujuan sebenarnya.\n",
        "\n",
        "- Menangani distribusi data yang tidak seimbang.\n",
        "\n",
        "- Meningkatkan kemampuan model dalam menangani kasus kritis seperti prediksi resign.\n",
        "\n",
        "> Secara garis besar nilai optimal treshold yang didapatkan akan diterapkan ketika melakukan prediksi resign agar hasil prediksi yang dihasilkan lebih akurat."
      ],
      "metadata": {
        "id": "fwHpMVmxSKMm"
      }
    },
    {
      "cell_type": "code",
      "source": [
        "from sklearn.metrics import precision_recall_curve, roc_curve, f1_score\n",
        "import numpy as np\n",
        "\n",
        "# Prediksi probabilitas\n",
        "y_probs = model.predict_proba(X_test)[:, 1]\n",
        "\n",
        "# Buat precision-recall curve\n",
        "precision, recall, thresholds = precision_recall_curve(y_test, y_probs)"
      ],
      "metadata": {
        "id": "ekBp6kSbNnsN"
      },
      "execution_count": null,
      "outputs": []
    },
    {
      "cell_type": "code",
      "source": [
        "# Hitung F1 untuk setiap threshold\n",
        "f1_scores = 2 * (precision * recall) / (precision + recall + 1e-6)\n",
        "best_threshold = thresholds[np.argmax(f1_scores)]\n",
        "print(f\"Threshold optimal (F1 tertinggi): {best_threshold:.2f}\")"
      ],
      "metadata": {
        "colab": {
          "base_uri": "https://localhost:8080/"
        },
        "id": "nVnuwL9eNvdT",
        "outputId": "1bd29818-6a29-4ad2-ef36-08e59b1e5326"
      },
      "execution_count": null,
      "outputs": [
        {
          "output_type": "stream",
          "name": "stdout",
          "text": [
            "Threshold optimal (F1 tertinggi): 0.28\n"
          ]
        }
      ]
    },
    {
      "cell_type": "code",
      "source": [
        "# Plot kurva\n",
        "plt.figure(figsize=(10, 6))\n",
        "plt.plot(thresholds, precision[:-1], label='Precision')\n",
        "plt.plot(thresholds, recall[:-1], label='Recall')\n",
        "plt.plot(thresholds, f1_scores[:-1], label='F1 Score')\n",
        "plt.axvline(x=best_threshold, color='r', linestyle='--', label=f'Threshold Optimal = {best_threshold:.2f}')\n",
        "plt.xlabel(\"Threshold\")\n",
        "plt.ylabel(\"Score\")\n",
        "plt.title(\"Precision, Recall & F1 vs Threshold\")\n",
        "plt.legend()\n",
        "plt.grid()\n",
        "plt.show()"
      ],
      "metadata": {
        "colab": {
          "base_uri": "https://localhost:8080/",
          "height": 564
        },
        "id": "9jFEdCNKNxU8",
        "outputId": "4536fe80-1ff6-4b64-99ac-e699f17dcc01"
      },
      "execution_count": null,
      "outputs": [
        {
          "output_type": "display_data",
          "data": {
            "text/plain": [
              "<Figure size 1000x600 with 1 Axes>"
            ],
            "image/png": "[encoded data removed]"
          },
          "metadata": {}
        }
      ]
    },
    {
      "cell_type": "code",
      "source": [
        "# Prediksi dengan threshold terbaik\n",
        "y_pred_optimal = (y_probs >= best_threshold).astype(int)\n",
        "\n",
        "# Evaluasi\n",
        "from sklearn.metrics import classification_report, confusion_matrix\n",
        "print(\"Classification Report (Threshold Optimal):\")\n",
        "print(classification_report(y_test, y_pred_optimal))"
      ],
      "metadata": {
        "colab": {
          "base_uri": "https://localhost:8080/"
        },
        "id": "ZHlaAsrDNy9L",
        "outputId": "f72c17b2-3adc-4c58-de74-a9e052ed1588"
      },
      "execution_count": null,
      "outputs": [
        {
          "output_type": "stream",
          "name": "stdout",
          "text": [
            "Classification Report (Threshold Optimal):\n",
            "              precision    recall  f1-score   support\n",
            "\n",
            "           0       0.92      0.93      0.92       176\n",
            "           1       0.93      0.92      0.92       176\n",
            "\n",
            "    accuracy                           0.92       352\n",
            "   macro avg       0.92      0.92      0.92       352\n",
            "weighted avg       0.92      0.92      0.92       352\n",
            "\n"
          ]
        }
      ]
    },
    {
      "cell_type": "markdown",
      "source": [
        "### **🔍 Kesimpulan dari Threshold Optimal (0.28)**\n",
        "\n",
        "**✅ Performa Model Sangat Baik (Akurasi 92%)**\n",
        "\n",
        "Dengan threshold ini, model berhasil mempertahankan akurasi keseluruhan sebesar 92%, yang menunjukkan bahwa prediksi secara umum sangat andal.\n",
        "\n",
        "**⚖️ Keseimbangan Precision dan Recall di Kedua Kelas**\n",
        "\n",
        "**Kelas 0 (Tidak Resign):**\n",
        "\n",
        "1. Precision: 0.92 → Dari semua prediksi “tidak resign”, 92% benar.\n",
        "\n",
        "2. Recall: 0.93 → Dari semua karyawan yang benar-benar “tidak resign”, 93% berhasil dikenali model.\n",
        "\n",
        "**Kelas 1 (Resign):**\n",
        "\n",
        "1. Precision: 0.93 → Dari semua prediksi “resign”, 93% benar-benar resign.\n",
        "\n",
        "2. Recall: 0.92 → Dari semua yang benar-benar resign, 92% berhasil dikenali.\n",
        "\n",
        "Hal ini menunjukkan model seimbang dan adil terhadap kedua kelas, bahkan pada dataset yang awalnya tidak seimbang.\n",
        "\n",
        "**🎯 F1-Score Tinggi dan Stabil di Kedua Kelas (0.92)**\n",
        "F1-score yang tinggi dan merata menunjukkan bahwa model tidak hanya fokus pada satu kelas saja, tetapi berhasil menjaga kualitas prediksi untuk kedua kelas dengan konsisten.\n",
        "\n",
        "**📉 Threshold 0.28 Lebih Efektif dari Default (0.5)**\n",
        "Dengan menurunkan threshold ke 0.28, model menjadi lebih sensitif terhadap kemungkinan resign, tanpa mengorbankan akurasi atau menambah terlalu banyak false positive."
      ],
      "metadata": {
        "id": "10THhCC_S0RA"
      }
    },
    {
      "cell_type": "markdown",
      "source": [
        "### **Save Threshold**"
      ],
      "metadata": {
        "id": "YEqNoK3CWTDT"
      }
    },
    {
      "cell_type": "code",
      "source": [
        "import json\n",
        "# Simpan threshold optimal\n",
        "threshold = 0.28\n",
        "with open('optimal_threshold.json', 'w') as f:\n",
        "    json.dump({'threshold': threshold}, f)"
      ],
      "metadata": {
        "id": "OPqC89ESWOFb"
      },
      "execution_count": null,
      "outputs": []
    },
    {
      "cell_type": "markdown",
      "source": [
        "## **Fature Importance**"
      ],
      "metadata": {
        "id": "_4v7pvwhXMsA"
      }
    },
    {
      "cell_type": "code",
      "source": [
        "# Plot feature importance dari model XGBoost\n",
        "import xgboost as xgb\n",
        "plt.figure(figsize=(10,6))\n",
        "plt.barh(range(10), importances[sorted_idx], align='center')\n",
        "plt.yticks(range(10), [feature_names[i] for i in sorted_idx])\n",
        "plt.gca().invert_yaxis()\n",
        "plt.xlabel(\"Feature Importance Score\")\n",
        "plt.title(\"Top 10 Feature Importance (XGBoost)\")\n",
        "plt.show()"
      ],
      "metadata": {
        "colab": {
          "base_uri": "https://localhost:8080/",
          "height": 564
        },
        "id": "famg5r_gNbp3",
        "outputId": "16a9ee42-e8f6-47c2-de35-12273e7a61c4"
      },
      "execution_count": null,
      "outputs": [
        {
          "output_type": "display_data",
          "data": {
            "text/plain": [
              "<Figure size 1000x600 with 1 Axes>"
            ],
            "image/png": "[encoded data removed]"
          },
          "metadata": {}
        }
      ]
    },
    {
      "cell_type": "markdown",
      "source": [
        "## **🔍 Analisis Fitur Penting Terhadap Prediksi Model**\n",
        "\n",
        "Berdasarkan hasil evaluasi feature importance dari model XGBoost yang telah dioptimalkan, diperoleh bahwa beberapa fitur memiliki kontribusi signifikan terhadap keputusan model dalam memprediksi target.\n",
        "\n",
        "**✅ Fitur Paling Berpengaruh:**\n",
        "1. OverTime_No\n",
        "\n",
        "  Merupakan fitur paling dominan dengan skor importance tertinggi. Hal ini menunjukkan bahwa status lembur sangat berpengaruh terhadap prediksi. Karyawan yang tidak melakukan lembur cenderung memiliki pola yang berbeda terkait dengan kemungkinan bertahan atau keluar dari perusahaan.\n",
        "\n",
        "2. JobLevel dan StockOptionLevel\n",
        "\n",
        "  Kedua fitur ini mencerminkan posisi jabatan dan insentif kepemilikan saham. Keduanya berperan penting dalam menentukan keterikatan dan kepuasan kerja, yang pada akhirnya memengaruhi loyalitas karyawan.\n",
        "\n",
        "3. JobInvolvement dan JobRole_Sales Executive\n",
        "\n",
        "  Tingkat keterlibatan kerja serta jenis pekerjaan sebagai Sales Executive menunjukkan bahwa peran aktif karyawan dalam pekerjaan mereka sangat relevan terhadap hasil prediksi. Karyawan dengan keterlibatan tinggi biasanya memiliki tingkat kepuasan kerja yang lebih tinggi.\n",
        "\n",
        "**⚖️ Fitur Lain yang Signifikan:**\n",
        "\n",
        "1. Department_Sales, MaritalStatus_Divorced, dan BusinessTravel_Travel_Frequently\n",
        "\n",
        "  Ketiga fitur ini berhubungan dengan unit kerja, status personal, dan frekuensi perjalanan. Meskipun kontribusinya tidak sebesar fitur utama, namun tetap memberikan informasi berharga mengenai profil karyawan yang cenderung keluar dari perusahaan.\n",
        "\n",
        "2. JobRole_Research Scientist dan EducationField_Other\n",
        "\n",
        "  Jenis pekerjaan serta latar belakang pendidikan juga menjadi indikator penting. Hal ini menunjukkan bahwa latar belakang profesional memengaruhi dinamika kerja dan keputusan karier.\n"
      ],
      "metadata": {
        "id": "ymobcLF6O6q5"
      }
    },
    {
      "cell_type": "markdown",
      "source": [
        "### **📌 Kesimpulan dan Rekomendasi Strategis:**\n",
        "\n",
        "Secara umum, model menunjukkan bahwa prediksi terhadap target sangat dipengaruhi oleh kombinasi faktor pekerjaan (lembur, tingkat jabatan, keterlibatan kerja), serta faktor personal dan demografis (status perkawinan, jenis pekerjaan, dan pola perjalanan kerja).\n",
        "\n",
        "👉 Oleh karena itu, perusahaan dapat memanfaatkan informasi ini untuk:\n",
        "\n",
        "1. Menyusun strategi retensi karyawan yang lebih terfokus pada kelompok rentan.\n",
        "\n",
        "2. Mengevaluasi ulang kebijakan lembur dan kompensasi.\n",
        "\n",
        "3. Mengembangkan program pengembangan karier dan pelatihan yang relevan dengan job level dan role.\n",
        "\n",
        "4. Menggunakan wawasan ini dalam perencanaan SDM berbasis data (data-driven HR planning)."
      ],
      "metadata": {
        "id": "-wdDJnD6RwX4"
      }
    }
  ]
}